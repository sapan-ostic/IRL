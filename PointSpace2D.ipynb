{
 "cells": [
  {
   "cell_type": "code",
   "execution_count": 1,
   "metadata": {},
   "outputs": [],
   "source": [
    "! rm -r runs\n",
    "\n",
    "# import pickle\n",
    "# import random\n",
    "# from collections import namedtuple\n",
    "\n",
    "import gym\n",
    "import gym_point\n",
    "import numpy as np\n",
    "# import ptan\n",
    "import torch\n",
    "import torch.optim as optim\n",
    "# from ptan.agent import float32_preprocessor\n",
    "\n",
    "from util import PGN, RewardNet, GRL, float32_preprocessor\n",
    "\n",
    "from matplotlib import pyplot as plt\n",
    "from torch.utils.tensorboard import SummaryWriter\n",
    "writer = SummaryWriter()"
   ]
  },
  {
   "cell_type": "code",
   "execution_count": 2,
   "metadata": {},
   "outputs": [
    {
     "data": {
      "text/plain": [
       "<torch._C.Generator at 0x7f4ef006ab40>"
      ]
     },
     "execution_count": 2,
     "metadata": {},
     "output_type": "execute_result"
    }
   ],
   "source": [
    "GAMMA = 0.99\n",
    "LEARNING_RATE = 0.0001\n",
    "EPISODES_TO_TRAIN = 4\n",
    "DEMO_BATCH = 50\n",
    "seed = 0\n",
    "np.random.seed(seed)\n",
    "# random.seed(seed)\n",
    "torch.manual_seed(seed)"
   ]
  },
  {
   "cell_type": "code",
   "execution_count": 3,
   "metadata": {},
   "outputs": [
    {
     "name": "stderr",
     "output_type": "stream",
     "text": [
      "/home/sagrawal/src/gym/gym/logger.py:30: UserWarning: \u001b[33mWARN: The dimensions are bigger than 2, only the first 2 dimensions are visualized\u001b[0m\n",
      "  warnings.warn(colorize('%s: %s'%('WARN', msg % args), 'yellow'))\n"
     ]
    }
   ],
   "source": [
    "env = gym.make('PointContinuousEnv-v0')\n",
    "agent_net = PGN(env.observation_space.shape[0], env.action_space.n)\n",
    "reward_net = RewardNet(env.observation_space.shape[0] + 1)\n",
    "optimizer_agent = optim.Adam(agent_net.parameters(), lr=LEARNING_RATE)\n",
    "optimizer_reward = optim.Adam(reward_net.parameters(), lr=1e-2, weight_decay=1e-4)"
   ]
  },
  {
   "cell_type": "code",
   "execution_count": 4,
   "metadata": {
    "scrolled": false
   },
   "outputs": [
    {
     "name": "stdout",
     "output_type": "stream",
     "text": [
      "Total number of demonstrations:  10\n",
      "Total number of step demonstrations:  1000\n"
     ]
    },
    {
     "data": {
      "image/png": "[encoded data removed]",
      "text/plain": [
       "<Figure size 432x288 with 1 Axes>"
      ]
     },
     "metadata": {
      "needs_background": "light"
     },
     "output_type": "display_data"
    }
   ],
   "source": [
    "grl = GRL(env, noise=0.02)\n",
    "demonstrations, XStore_steps, AStore_steps = grl.get_demonstrations(Ndemo=10)\n",
    "# grl.test_demonstrations(demonstrations, Nsamp=5)\n",
    "# demonstrations['states'][0][:10], demonstrations['actions'][0][:10]"
   ]
  },
  {
   "cell_type": "code",
   "execution_count": 49,
   "metadata": {},
   "outputs": [
    {
     "ename": "TypeError",
     "evalue": "int() argument must be a string, a bytes-like object or a number, not 'list'",
     "output_type": "error",
     "traceback": [
      "\u001b[0;31m---------------------------------------------------------------------------\u001b[0m",
      "\u001b[0;31mTypeError\u001b[0m                                 Traceback (most recent call last)",
      "\u001b[0;32m<ipython-input-49-ad0c4773621e>\u001b[0m in \u001b[0;36m<module>\u001b[0;34m\u001b[0m\n\u001b[0;32m----> 1\u001b[0;31m \u001b[0mx\u001b[0m \u001b[0;34m=\u001b[0m \u001b[0mtorch\u001b[0m\u001b[0;34m.\u001b[0m\u001b[0mcat\u001b[0m\u001b[0;34m(\u001b[0m\u001b[0;34m[\u001b[0m\u001b[0mfloat32_preprocessor\u001b[0m\u001b[0;34m(\u001b[0m\u001b[0mstates\u001b[0m\u001b[0;34m)\u001b[0m\u001b[0;34m,\u001b[0m \u001b[0mfloat32_preprocessor\u001b[0m\u001b[0;34m(\u001b[0m\u001b[0;34m[\u001b[0m\u001b[0mint\u001b[0m\u001b[0;34m(\u001b[0m\u001b[0mactions\u001b[0m\u001b[0;34m)\u001b[0m\u001b[0;34m]\u001b[0m\u001b[0;34m)\u001b[0m\u001b[0;34m]\u001b[0m\u001b[0;34m)\u001b[0m\u001b[0;34m.\u001b[0m\u001b[0mview\u001b[0m\u001b[0;34m(\u001b[0m\u001b[0;36m1\u001b[0m\u001b[0;34m,\u001b[0m \u001b[0;34m-\u001b[0m\u001b[0;36m1\u001b[0m\u001b[0;34m)\u001b[0m\u001b[0;34m\u001b[0m\u001b[0;34m\u001b[0m\u001b[0m\n\u001b[0m\u001b[1;32m      2\u001b[0m \u001b[0mprint\u001b[0m\u001b[0;34m(\u001b[0m\u001b[0mx\u001b[0m\u001b[0;34m)\u001b[0m\u001b[0;34m\u001b[0m\u001b[0;34m\u001b[0m\u001b[0m\n",
      "\u001b[0;31mTypeError\u001b[0m: int() argument must be a string, a bytes-like object or a number, not 'list'"
     ]
    }
   ],
   "source": [
    "x = torch.cat([float32_preprocessor(states), float32_preprocessor([int(actions)])]).view(1, -1)\n",
    "print(x)"
   ]
  },
  {
   "cell_type": "code",
   "execution_count": 36,
   "metadata": {},
   "outputs": [
    {
     "ename": "IndexError",
     "evalue": "index 13 is out of bounds for axis 0 with size 10",
     "output_type": "error",
     "traceback": [
      "\u001b[0;31m---------------------------------------------------------------------------\u001b[0m",
      "\u001b[0;31mIndexError\u001b[0m                                Traceback (most recent call last)",
      "\u001b[0;32m<ipython-input-36-8d5fda9e9de6>\u001b[0m in \u001b[0;36m<module>\u001b[0;34m\u001b[0m\n\u001b[1;32m     67\u001b[0m \u001b[0;31m#         selected = np.random.choice(len(demonstrations), DEMO_BATCH)\u001b[0m\u001b[0;34m\u001b[0m\u001b[0;34m\u001b[0m\u001b[0;34m\u001b[0m\u001b[0m\n\u001b[1;32m     68\u001b[0m         \u001b[0mselected\u001b[0m \u001b[0;34m=\u001b[0m \u001b[0mnp\u001b[0m\u001b[0;34m.\u001b[0m\u001b[0mrandom\u001b[0m\u001b[0;34m.\u001b[0m\u001b[0mchoice\u001b[0m\u001b[0;34m(\u001b[0m\u001b[0;36m50\u001b[0m\u001b[0;34m,\u001b[0m \u001b[0mDEMO_BATCH\u001b[0m\u001b[0;34m)\u001b[0m\u001b[0;34m\u001b[0m\u001b[0;34m\u001b[0m\u001b[0m\n\u001b[0;32m---> 69\u001b[0;31m         \u001b[0mdemo_states\u001b[0m \u001b[0;34m=\u001b[0m \u001b[0mdemo_states\u001b[0m\u001b[0;34m[\u001b[0m\u001b[0mselected\u001b[0m\u001b[0;34m]\u001b[0m\u001b[0;34m\u001b[0m\u001b[0;34m\u001b[0m\u001b[0m\n\u001b[0m\u001b[1;32m     70\u001b[0m         \u001b[0mdemo_actions\u001b[0m \u001b[0;34m=\u001b[0m \u001b[0mdemo_actions\u001b[0m\u001b[0;34m[\u001b[0m\u001b[0mselected\u001b[0m\u001b[0;34m]\u001b[0m\u001b[0;34m\u001b[0m\u001b[0;34m\u001b[0m\u001b[0m\n\u001b[1;32m     71\u001b[0m         \u001b[0mdemo_batch_states\u001b[0m\u001b[0;34m,\u001b[0m \u001b[0mdemo_batch_actions\u001b[0m \u001b[0;34m=\u001b[0m \u001b[0;34m[\u001b[0m\u001b[0;34m]\u001b[0m\u001b[0;34m,\u001b[0m \u001b[0;34m[\u001b[0m\u001b[0;34m]\u001b[0m\u001b[0;34m\u001b[0m\u001b[0;34m\u001b[0m\u001b[0m\n",
      "\u001b[0;31mIndexError\u001b[0m: index 13 is out of bounds for axis 0 with size 10"
     ]
    }
   ],
   "source": [
    "total_rewards = []\n",
    "step_idx = 0\n",
    "done_episodes = 0\n",
    "\n",
    "BSIZE = 100 # batch size\n",
    "\n",
    "batch_episodes = 0\n",
    "batch_states, batch_actions, batch_qvals = deque([], BSIZE), deque([], BSIZE), deque([], BSIZE)\n",
    "cur_rewards = []\n",
    "env_rewards = []\n",
    "loss_rwd = 0.\n",
    "env_rewards = 0\n",
    "\n",
    "for step_idx in range(100):\n",
    "    states, actions, rewards, done = agent_net.generate_session(env, 100)\n",
    "    \n",
    "    # Store samples in batch\n",
    "    batch_states.extend(states)\n",
    "    batch_actions.extend(actions)\n",
    "    batch_qvals.extend(gcl.calc_qvals(rewards))\n",
    "    \n",
    "    env_rewards = np.sum(rewards)\n",
    "    \n",
    "    if len(batch_actions) < 100:\n",
    "        continue\n",
    "        \n",
    "    # Get reward from reward_net\n",
    "    x = torch.cat([float32_preprocessor(states[0]), float32_preprocessor([int(actions[0])])]).view(1, -1)\n",
    "    reward = reward_net(x)\n",
    "    cur_rewards.append(reward.item())\n",
    "        \n",
    "    if done is True:        \n",
    "        cur_rewards.clear()\n",
    "        batch_episodes += 1\n",
    "        done_episodes += 1\n",
    "        \n",
    "        total_rewards.append(env_rewards)\n",
    "        mean_rewards = float(np.mean(total_rewards[-100:]))\n",
    "        \n",
    "        writer.add_scalar('Episodic Reward', reward, done_episodes)\n",
    "        writer.add_scalar('mean_reward', mean_rewards, done_episodes)\n",
    "        writer.add_scalar('loss_reward_net', loss_rwd, done_episodes)        \n",
    "        \n",
    "        print(f'{step_idx}: reward: {env_rewards:6.2f}, mean_100: {mean_rewards:6.2f}, '\n",
    "              f'episodes: {done_episodes}, reward function loss: {loss_rwd:6.4f}')\n",
    "        \n",
    "        ## Tensorboard logging \n",
    "        if done_episodes%100==0 or mean_rewards>=80:\n",
    "            fig = reward_net.visualize_net(agent_net, Npoints=20)\n",
    "            writer.add_figure('Reward Net', fig, global_step=done_episodes/100)\n",
    "            \n",
    "        if mean_rewards >= 80:\n",
    "            print(f'Solved in {step_idx} steps and {done_episodes} episodes!')\n",
    "            torch.save(agent_net.state_dict(), 'pointspace_learner.mod')\n",
    "            torch.save(reward_net.state_dict(), 'pointspace-v1_reward_func.mod')\n",
    "            break\n",
    "\n",
    "    states_v = torch.FloatTensor(batch_states)\n",
    "    batch_actions_t = torch.LongTensor(batch_actions)\n",
    "    batch_qvals_v = torch.FloatTensor(batch_qvals)\n",
    "  \n",
    "    demo_states = np.array(demonstrations['states'])\n",
    "    demo_actions = np.array(demonstrations['actions'])\n",
    "    for rf_i in range(10):\n",
    "        # reward function learning\n",
    "\n",
    "#         selected = np.random.choice(len(demonstrations), DEMO_BATCH)\n",
    "        selected = np.random.choice(50, DEMO_BATCH)\n",
    "        demo_states = demo_states[selected]\n",
    "        demo_actions = demo_actions[selected]\n",
    "        demo_batch_states, demo_batch_actions = [], []\n",
    "    \n",
    "        for idx in range(len(demo_states)):\n",
    "            demo_batch_states.extend(demo_states[idx])\n",
    "            demo_batch_actions.extend(demo_actions[idx])\n",
    "        \n",
    "        demo_batch_states = torch.FloatTensor(demo_batch_states)\n",
    "        demo_batch_actions = torch.FloatTensor(demo_batch_actions)\n",
    "        \n",
    "        D_demo = torch.cat([demo_batch_states, demo_batch_actions.view(-1, 1)], dim=-1)\n",
    "        D_samp = torch.cat([states_v, batch_actions_t.float().view(-1, 1)], dim=-1)\n",
    "        D_samp = torch.cat([D_demo, D_samp])\n",
    "        \n",
    "        \n",
    "        # dummy importance weights - fix later\n",
    "        z = torch.ones((D_samp.shape[0], 1))\n",
    "\n",
    "        # objective\n",
    "        D_demo_out = reward_net(D_demo)\n",
    "        D_samp_out = reward_net(D_samp)\n",
    "        D_samp_out = z * torch.exp(D_samp_out)\n",
    "        \n",
    "        loss_rwd = -torch.mean(D_demo_out) + torch.log(torch.mean(D_samp_out))\n",
    "        loss_rwd = 10000*loss_rwd  # for maximization\n",
    "\n",
    "#         # Case 1\n",
    "#         Demo = 8\n",
    "#         Samp = 80\n",
    "#         Bad Reward Net\n",
    "#         Loss = -(8 - 80) = 72\n",
    "        \n",
    "#         # Case 2\n",
    "        \n",
    "        # update parameters\n",
    "        optimizer_reward.zero_grad()\n",
    "        loss_rwd.backward()\n",
    "        optimizer_reward.step()\n",
    "\n",
    "    # agent\n",
    "    optimizer_agent.zero_grad()\n",
    "    logits_v = agent_net(states_v)\n",
    "    log_prob_v = torch.log_softmax(logits_v, dim=1)\n",
    "    \n",
    "    # REINFORCE\n",
    "    log_prob_actions_v = batch_qvals_v * log_prob_v[range(len(batch_states)), batch_actions_t]\n",
    "    loss_v = log_prob_actions_v.mean()\n",
    "    \n",
    "    # Todo: add loss to tensorboard\n",
    "    \n",
    "    loss_v.backward()\n",
    "    optimizer_agent.step()\n",
    "\n",
    "    batch_episodes = 0\n",
    "#     batch_states.clear()\n",
    "#     batch_actions.clear()\n",
    "#     batch_qvals.clear()\n",
    "env.close()\n",
    "writer.close()"
   ]
  },
  {
   "cell_type": "code",
   "execution_count": 44,
   "metadata": {},
   "outputs": [
    {
     "data": {
      "text/plain": [
       "[1.0099, 0.010000000000000009, -1.0]"
      ]
     },
     "execution_count": 44,
     "metadata": {},
     "output_type": "execute_result"
    }
   ],
   "source": [
    "grl.calc_qvals(rewards)"
   ]
  },
  {
   "cell_type": "code",
   "execution_count": 20,
   "metadata": {},
   "outputs": [],
   "source": [
    "c.clear()"
   ]
  },
  {
   "cell_type": "code",
   "execution_count": 21,
   "metadata": {},
   "outputs": [
    {
     "data": {
      "text/plain": [
       "[]"
      ]
     },
     "execution_count": 21,
     "metadata": {},
     "output_type": "execute_result"
    }
   ],
   "source": [
    "c"
   ]
  },
  {
   "cell_type": "code",
   "execution_count": null,
   "metadata": {},
   "outputs": [],
   "source": []
  }
 ],
 "metadata": {
  "kernelspec": {
   "display_name": "Python 3",
   "language": "python",
   "name": "python3"
  },
  "language_info": {
   "codemirror_mode": {
    "name": "ipython",
    "version": 3
   },
   "file_extension": ".py",
   "mimetype": "text/x-python",
   "name": "python",
   "nbconvert_exporter": "python",
   "pygments_lexer": "ipython3",
   "version": "3.6.9"
  }
 },
 "nbformat": 4,
 "nbformat_minor": 2
}
