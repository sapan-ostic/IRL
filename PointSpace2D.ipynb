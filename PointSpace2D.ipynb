{
 "cells": [
  {
   "cell_type": "code",
   "execution_count": 8,
   "metadata": {},
   "outputs": [
    {
     "name": "stdout",
     "output_type": "stream",
     "text": [
      "cuda:0\n"
     ]
    }
   ],
   "source": [
    "! rm -r runs\n",
    "\n",
    "import gym\n",
    "import gym_point\n",
    "import numpy as np\n",
    "from collections import deque\n",
    "import torch\n",
    "import torch.optim as optim\n",
    "\n",
    "from util import PGN, RewardNet, GRL, float32_preprocessor\n",
    "\n",
    "from matplotlib import pyplot as plt\n",
    "from torch.utils.tensorboard import SummaryWriter\n",
    "\n",
    "writer = SummaryWriter()\n",
    "device = torch.device(\"cuda:0\" if torch.cuda.is_available() else \"cpu\")\n",
    "print(device)"
   ]
  },
  {
   "cell_type": "code",
   "execution_count": 2,
   "metadata": {},
   "outputs": [
    {
     "data": {
      "text/plain": [
       "<torch._C.Generator at 0x7f1fac03eb40>"
      ]
     },
     "execution_count": 2,
     "metadata": {},
     "output_type": "execute_result"
    }
   ],
   "source": [
    "GAMMA = 0.95\n",
    "LEARNING_RATE = 0.0001\n",
    "seed = 0\n",
    "np.random.seed(seed)\n",
    "torch.manual_seed(seed)"
   ]
  },
  {
   "cell_type": "code",
   "execution_count": 3,
   "metadata": {
    "scrolled": true
   },
   "outputs": [
    {
     "name": "stderr",
     "output_type": "stream",
     "text": [
      "/home/sagrawal/src/gym/gym/logger.py:30: UserWarning: \u001b[33mWARN: The dimensions are bigger than 2, only the first 2 dimensions are visualized\u001b[0m\n",
      "  warnings.warn(colorize('%s: %s'%('WARN', msg % args), 'yellow'))\n"
     ]
    }
   ],
   "source": [
    "env = gym.make('PointContinuousEnv-v0')\n",
    "env.set_curve('S')\n",
    "agent_net = PGN(env.observation_space.shape[0], env.action_space.n)\n",
    "reward_net = RewardNet(env.observation_space.shape[0] + 1)\n",
    "optimizer_agent = optim.Adam(agent_net.parameters(), lr=LEARNING_RATE)\n",
    "optimizer_reward = optim.Adam(reward_net.parameters(), lr=1e-4, weight_decay=1e-3)"
   ]
  },
  {
   "cell_type": "code",
   "execution_count": 4,
   "metadata": {},
   "outputs": [
    {
     "data": {
      "text/plain": [
       "RewardNet(\n",
       "  (net): Sequential(\n",
       "    (0): Linear(in_features=5, out_features=128, bias=True)\n",
       "    (1): LayerNorm((128,), eps=1e-05, elementwise_affine=True)\n",
       "    (2): ReLU()\n",
       "    (3): Linear(in_features=128, out_features=64, bias=True)\n",
       "    (4): LayerNorm((64,), eps=1e-05, elementwise_affine=True)\n",
       "    (5): ReLU()\n",
       "    (6): Linear(in_features=64, out_features=1, bias=True)\n",
       "    (7): Sigmoid()\n",
       "  )\n",
       ")"
      ]
     },
     "execution_count": 4,
     "metadata": {},
     "output_type": "execute_result"
    }
   ],
   "source": [
    "agent_net.to(device)\n",
    "reward_net.to(device)"
   ]
  },
  {
   "cell_type": "code",
   "execution_count": 5,
   "metadata": {
    "scrolled": true
   },
   "outputs": [
    {
     "name": "stdout",
     "output_type": "stream",
     "text": [
      "Total number of demonstrations:  100\n",
      "Total number of step demonstrations:  10000\n",
      "Testing demonstrations\n",
      "Test case:  0  Reward:  79 info:  reached end\n",
      "Test case:  20  Reward:  82 info:  reached end\n",
      "Test case:  40  Reward:  86 info:  reached end\n",
      "Test case:  60  Reward:  88 info:  reached end\n",
      "Test case:  80  Reward:  82 info:  reached end\n",
      "Average over  5  samples =  83.4\n"
     ]
    },
    {
     "data": {
      "image/png": "[encoded data removed]",
      "text/plain": [
       "<Figure size 432x288 with 1 Axes>"
      ]
     },
     "metadata": {
      "needs_background": "light"
     },
     "output_type": "display_data"
    }
   ],
   "source": [
    "grl = GRL(env, noise=0.02)\n",
    "demonstrations, XStore_steps, AStore_steps = grl.get_demonstrations(Ndemo=100, Kp=-100, Kd=-3)\n",
    "grl.test_demonstrations(demonstrations, Nsamp=5, render=False)\n",
    "# demonstrations['states'][0][:10], demonstrations['actions'][0][:10]"
   ]
  },
  {
   "cell_type": "code",
   "execution_count": null,
   "metadata": {
    "scrolled": true
   },
   "outputs": [],
   "source": [
    "total_rewards = []\n",
    "step_idx = 0\n",
    "done_episodes = 0\n",
    "DEMO_BATCH = 100\n",
    "BSIZE = 100 # batch size\n",
    "\n",
    "batch_episodes = 0\n",
    "batch_states, batch_actions, batch_qvals = deque([], BSIZE), deque([], BSIZE), deque([], BSIZE)\n",
    "net_rewards = deque([], 100)\n",
    "env_rewards = deque([], 100)\n",
    "loss_rwd = 0.\n",
    "\n",
    "while done_episodes < 500000:\n",
    "    states, actions, rewards, done = agent_net.generate_session(env, BSIZE)\n",
    "    \n",
    "    # Store samples in batch\n",
    "    batch_states.extend(states)\n",
    "    batch_actions.extend(actions)\n",
    "    batch_qvals.extend(grl.calc_qvals(rewards))\n",
    "    env_reward = np.sum(rewards)\n",
    "    env_rewards.extend([env_reward])\n",
    "    \n",
    "    batch_episodes += 1\n",
    "        \n",
    "    # Get reward from reward_net\n",
    "    x = torch.cat((float32_preprocessor(states), float32_preprocessor(actions).view(-1,1)), dim=1).to(device)\n",
    "    net_reward = reward_net(x)\n",
    "    net_rewards.extend([np.sum(net_reward.cpu().detach().numpy())])\n",
    "         \n",
    "    done_episodes += 1\n",
    "\n",
    "    mean_env_rewards = float(np.mean(env_rewards))\n",
    "    mean_net_rewards = float(np.mean(net_rewards))\n",
    "\n",
    "    writer.add_scalar('Episodic Reward', env_reward, done_episodes)\n",
    "    writer.add_scalar('mean_env_reward', mean_env_rewards, done_episodes)\n",
    "    writer.add_scalar('mean_net_reward', mean_net_rewards, done_episodes)\n",
    "    writer.add_scalar('loss_reward_net', loss_rwd, done_episodes)        \n",
    "\n",
    "#     print(f'{done_episodes}: reward: {env_reward:6.2f}, mean_env_reward: {mean_env_rewards:6.2f}, mean_net_reward: {mean_net_rewards:6.2f}, reward function loss: {loss_rwd:6.4f}')\n",
    "\n",
    "    ## Tensorboard logging \n",
    "    if done_episodes%100==0 or mean_env_rewards>=100:\n",
    "        fig = reward_net.visualize_net(agent_net, Npoints=20)\n",
    "        writer.add_figure('Reward Net', fig, global_step=done_episodes/100)\n",
    "        \n",
    "        test_reward, test_fig = agent_net.test_agent(env,device)\n",
    "        writer.add_scalar('test_reward', test_reward, done_episodes)\n",
    "        writer.add_figure('Agent traj', test_fig, global_step=done_episodes/100)\n",
    "\n",
    "    if mean_env_rewards >= 100:\n",
    "        print(f'Solved in {step_idx} steps and {done_episodes} episodes!')\n",
    "        torch.save(agent_net.state_dict(), 'pointspace_policy_net_origin.mod')\n",
    "        torch.save(reward_net.state_dict(), 'pointspace_reward_net_origin.mod')\n",
    "        break\n",
    "\n",
    "    states_v = torch.FloatTensor(batch_states)\n",
    "    batch_actions_t = torch.LongTensor(batch_actions)\n",
    "    batch_qvals_v = torch.FloatTensor(batch_qvals)\n",
    "  \n",
    "    Total_steps_demo = len(AStore_steps)\n",
    "\n",
    "    # reward function learning\n",
    "    for rf_i in range(1):\n",
    "        # ToDo: Sample from initial steps\n",
    "        selected = np.random.choice(Total_steps_demo, DEMO_BATCH)\n",
    "        demo_states = np.take(XStore_steps, selected, axis=0)\n",
    "        demo_actions = np.take(AStore_steps, selected, axis=0)\n",
    "        \n",
    "        demo_batch_states = torch.FloatTensor(demo_states)\n",
    "        demo_batch_actions = torch.FloatTensor(demo_actions)\n",
    "        \n",
    "        D_demo = torch.cat([demo_batch_states, demo_batch_actions.view(-1, 1)], dim=-1).to(device)\n",
    "        D_samp = torch.cat([states_v, batch_actions_t.float().view(-1, 1)], dim=-1).to(device)\n",
    "        D_samp = torch.cat([D_demo, D_samp])\n",
    "                \n",
    "        # dummy importance weights - fix later\n",
    "        z = torch.ones((D_samp.shape[0], 1)).to(device)\n",
    "\n",
    "        # objective\n",
    "        D_demo_out = reward_net(D_demo)\n",
    "        D_samp_out_net = reward_net(D_samp)\n",
    "        D_samp_out = z * torch.exp(D_samp_out_net)\n",
    "        \n",
    "        loss_rwd = -torch.mean(D_demo_out) + torch.log(torch.mean(D_samp_out))\n",
    "        optimizer_reward.zero_grad()\n",
    "        loss_rwd.backward()\n",
    "        optimizer_reward.step()\n",
    "    \n",
    "    # agent\n",
    "    optimizer_agent.zero_grad()\n",
    "    logits_v = agent_net(states_v.to(device))\n",
    "    log_prob_v = torch.log_softmax(logits_v.cpu(), dim=1) # p(a|s)\n",
    "    \n",
    "    # batch_qvals_v = E(s)\n",
    "    # REINFORCE\n",
    "    log_prob_actions_v = -batch_qvals_v * log_prob_v[range(len(batch_states)), batch_actions_t] #q(s,a)=p(a|s)E(s)\n",
    "    loss_v = log_prob_actions_v.mean()\n",
    "    writer.add_scalar('loss_agent_net', loss_v, done_episodes) \n",
    "    \n",
    "    loss_v.backward()\n",
    "    optimizer_agent.step()\n",
    "\n",
    "    batch_episodes = 0\n",
    "\n",
    "env.close()\n",
    "writer.close()"
   ]
  },
  {
   "cell_type": "code",
   "execution_count": null,
   "metadata": {},
   "outputs": [],
   "source": [
    "## Testing \n",
    "agent_net.eval()\n",
    "\n",
    "for i in range(10):\n",
    "    state = env.reset()\n",
    "    Reward = 0\n",
    "    done = False\n",
    "    while not done:\n",
    "        env.render()\n",
    "        action, _ = agent_net.get_action(state)\n",
    "        state, reward, done, _ = env.step(int(action))\n",
    "        Reward += reward\n",
    "    print(\"Trial :\", i, \" Reward: \", Reward)\n",
    "env.close()"
   ]
  },
  {
   "cell_type": "code",
   "execution_count": null,
   "metadata": {},
   "outputs": [],
   "source": []
  }
 ],
 "metadata": {
  "kernelspec": {
   "display_name": "Python 3",
   "language": "python",
   "name": "python3"
  },
  "language_info": {
   "codemirror_mode": {
    "name": "ipython",
    "version": 3
   },
   "file_extension": ".py",
   "mimetype": "text/x-python",
   "name": "python",
   "nbconvert_exporter": "python",
   "pygments_lexer": "ipython3",
   "version": "3.6.9"
  }
 },
 "nbformat": 4,
 "nbformat_minor": 2
}
